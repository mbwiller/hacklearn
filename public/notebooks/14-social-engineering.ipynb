{
  "cells": [
    {
      "cell_type": "markdown",
      "metadata": {},
      "source": [
        "# Social Engineering & Phishing - Hands-On Lab\\n\\n**Part of HackLearn Pro**\\n\\n## Learning Objectives\\n\\n- Analyze phishing emails by examining headers, authentication results, and suspicious patterns\\n- Build URL reputation checkers using VirusTotal and threat intelligence APIs\\n- Implement email authentication (SPF, DKIM, DMARC) validation\\n- Conduct OSINT reconnaissance to understand organizational exposure\\n- Deploy defensive email filtering and anomaly detection systems\\n\\n## Prerequisites\\n\\n- Python 3.8+ installed\\n- Basic understanding of email protocols (SMTP, headers)\\n- API keys: VirusTotal (optional), Have I Been Pwned (optional)\\n- Ethical use only: Test on your own systems or with explicit permission"
      ]
    },
    {
      "cell_type": "markdown",
      "metadata": {},
      "source": [
        "## Setup\\n\\nInstall required packages:"
      ]
    },
    {
      "cell_type": "code",
      "execution_count": null,
      "metadata": {},
      "outputs": [],
      "source": [
        "# Install required libraries\\n!pip install requests beautifulsoup4 dnspython python-whois\\n\\nprint('Setup complete! All packages installed.')"
      ]
    },
    {
      "cell_type": "markdown",
      "metadata": {},
      "source": [
        "## Lab 1: Email Header Analysis\\n\\nLearn to identify phishing indicators by analyzing email headers and authentication results."
      ]
    },
    {
      "cell_type": "code",
      "execution_count": null,
      "metadata": {},
      "outputs": [],
      "source": [
        "import email\\nfrom email import policy\\nfrom email.parser import BytesParser\\nimport re\\n\\n# Sample phishing email headers (educational example)\\nsample_email = '''From: support@paypa1.com\\nTo: victim@company.com\\nSubject: Urgent: Verify Your Account\\nReturn-Path: attacker@malicious.com\\nReceived-SPF: fail (google.com: domain of attacker@malicious.com does not designate sender as permitted sender)\\nAuthentication-Results: spf=fail smtp.mailfrom=attacker@malicious.com\\n\\nYour account will be suspended unless you verify within 24 hours.\\nClick here: http://paypa1-security.tk/verify\\n'''\\n\\n# Parse email\\nmsg = email.message_from_string(sample_email, policy=policy.default)\\n\\nprint(\\"=== EMAIL HEADER ANALYSIS ===\\\\n\\")\\nprint(f\\"From: {msg['from']}\\")\\nprint(f\\"Return-Path: {msg['return-path']}\\")\\nprint(f\\"SPF Result: {msg['received-spf']}\\")\\nprint(f\\"Subject: {msg['subject']}\\\\n\\")\\n\\n# Red Flag Detection\\nred_flags = []\\n\\n# Check 1: Sender domain mismatch\\nif msg['from'] and msg['return-path']:\\n    from_domain = msg['from'].split('@')[-1].strip('>').strip('<')\\n    return_domain = msg['return-path'].split('@')[-1].strip('>').strip('<')\\n    if from_domain != return_domain:\\n        red_flags.append(f\\"Domain mismatch: Display={from_domain}, Actual={return_domain}\\")\\n\\n# Check 2: SPF failure\\nif msg['received-spf'] and 'fail' in msg['received-spf'].lower():\\n    red_flags.append(\\"SPF authentication failed\\")\\n\\n# Check 3: Typosquatting domain\\nif 'paypa1' in str(msg['from']).lower():\\n    red_flags.append(\\"Typosquatting detected: 'paypa1' instead of 'paypal'\\")\\n\\n# Check 4: Urgency language\\nif msg['subject']:\\n    urgency_keywords = ['urgent', 'immediate', 'suspended', 'verify', '24 hours']\\n    for keyword in urgency_keywords:\\n        if keyword.lower() in msg['subject'].lower():\\n            red_flags.append(f\\"Urgency keyword: '{keyword}'\\")\\n            break\\n\\nprint(\\"=== RED FLAGS DETECTED ===\\")\\nfor i, flag in enumerate(red_flags, 1):\\n    print(f\\"{i}. {flag}\\")\\n\\nif len(red_flags) >= 3:\\n    print(\\"\\\\n[ALERT] HIGH PROBABILITY OF PHISHING ATTACK!\\")\\nelif len(red_flags) >= 1:\\n    print(\\"\\\\n[WARNING] Suspicious email - investigate further\\")\\nelse:\\n    print(\\"\\\\n[INFO] Email appears legitimate\\")"
      ]
    },
    {
      "cell_type": "markdown",
      "metadata": {},
      "source": [
        "### Exercise 1.1: Extract and Analyze URLs from Email Body"
      ]
    },
    {
      "cell_type": "code",
      "execution_count": null,
      "metadata": {},
      "outputs": [],
      "source": [
        "import re\\nfrom urllib.parse import urlparse\\n\\n# Extract URLs from email body\\nbody_text = str(msg.get_body())\\nurls = re.findall(r'https?://[^\\\\s<>\\"]+', body_text)\\n\\nprint(f\\"=== URLs FOUND: {len(urls)} ===\\\\n\\")\\n\\nfor url in urls:\\n    parsed = urlparse(url)\\n    print(f\\"URL: {url}\\")\\n    print(f\\"  Domain: {parsed.netloc}\\")\\n    print(f\\"  Path: {parsed.path}\\")\\n    \\n    # Check for suspicious TLDs\\n    suspicious_tlds = ['.tk', '.ml', '.ga', '.cf', '.gq', '.xyz']\\n    if any(tld in parsed.netloc.lower() for tld in suspicious_tlds):\\n        print(\\"  [WARNING] Suspicious TLD detected!\\")\\n    \\n    # Check for IP address instead of domain\\n    if re.match(r'^\\\\d{1,3}\\\\.\\\\d{1,3}\\\\.\\\\d{1,3}\\\\.\\\\d{1,3}', parsed.netloc):\\n        print(\\"  [WARNING] URL uses IP address instead of domain!\\")\\n    \\n    print()"
      ]
    },
    {
      "cell_type": "markdown",
      "metadata": {},
      "source": [
        "## Lab 2: URL Reputation Analysis\\n\\nBuild a URL reputation checker using VirusTotal API (requires API key)."
      ]
    },
    {
      "cell_type": "code",
      "execution_count": null,
      "metadata": {},
      "outputs": [],
      "source": [
        "import requests\\nimport hashlib\\nimport base64\\n\\ndef check_url_reputation_virustotal(url, api_key=None):\\n    \\"\\"\\"\\n    Check URL against VirusTotal database\\n    Note: Requires free VirusTotal API key from https://www.virustotal.com/gui/join-us\\n    \\"\\"\\"\\n    if not api_key:\\n        print(\\"[INFO] VirusTotal API key not provided. Using simulation mode.\\\\n\\")\\n        # Simulated result for educational purposes\\n        print(f\\"URL: {url}\\")\\n        print(\\"Malicious detections: 12 / 89 scanners\\")\\n        print(\\"Suspicious detections: 5 / 89 scanners\\")\\n        print(\\"\\\\n[ALERT] URL flagged as MALICIOUS by multiple vendors!\\")\\n        return False\\n    \\n    # Real VirusTotal API implementation\\n    vt_url = 'https://www.virustotal.com/api/v3/urls'\\n    headers = {'x-apikey': api_key}\\n    \\n    # Submit URL for scanning\\n    response = requests.post(vt_url, headers=headers, data={'url': url})\\n    \\n    if response.status_code == 200:\\n        result = response.json()\\n        analysis_id = result['data']['id']\\n        \\n        # Get scan results\\n        analysis_url = f'https://www.virustotal.com/api/v3/analyses/{analysis_id}'\\n        analysis_response = requests.get(analysis_url, headers=headers)\\n        \\n        if analysis_response.status_code == 200:\\n            analysis_result = analysis_response.json()\\n            stats = analysis_result['data']['attributes']['stats']\\n            \\n            print(f\\"URL: {url}\\")\\n            print(f\\"Malicious detections: {stats['malicious']}\\")\\n            print(f\\"Suspicious detections: {stats['suspicious']}\\")\\n            print(f\\"Clean detections: {stats['harmless']}\\\\n\\")\\n            \\n            if stats['malicious'] > 0:\\n                print(\\"[ALERT] URL flagged as MALICIOUS!\\")\\n                return False\\n            elif stats['suspicious'] > 3:\\n                print(\\"[WARNING] URL flagged as SUSPICIOUS!\\")\\n                return False\\n            else:\\n                print(\\"[INFO] URL appears safe.\\")\\n                return True\\n    else:\\n        print(f\\"Error: {response.status_code}\\")\\n        return None\\n\\n# Example usage (without API key - simulation mode)\\ntest_urls = [\\n    'http://paypa1-security.tk/verify',\\n    'http://suspicious-site.com/login',\\n    'https://legitimate-company.com'\\n]\\n\\nprint(\\"=== URL REPUTATION ANALYSIS ===\\\\n\\")\\nfor url in test_urls:\\n    check_url_reputation_virustotal(url)\\n    print(\\"\\\\n\\" + \\"=\\"*50 + \\"\\\\n\\")"
      ]
    },
    {
      "cell_type": "markdown",
      "metadata": {},
      "source": [
        "### Exercise 2.1: Check Domain Age with WHOIS"
      ]
    },
    {
      "cell_type": "code",
      "execution_count": null,
      "metadata": {},
      "outputs": [],
      "source": [
        "import whois\\nfrom datetime import datetime\\n\\ndef check_domain_age(domain):\\n    \\"\\"\\"\\n    Check domain registration date (newly registered domains are suspicious)\\n    \\"\\"\\"\\n    try:\\n        domain_info = whois.whois(domain)\\n        creation_date = domain_info.creation_date\\n        \\n        if isinstance(creation_date, list):\\n            creation_date = creation_date[0]\\n        \\n        if creation_date:\\n            age_days = (datetime.now() - creation_date).days\\n            print(f\\"Domain: {domain}\\")\\n            print(f\\"Registration Date: {creation_date.strftime('%Y-%m-%d')}\\")\\n            print(f\\"Age: {age_days} days ({age_days // 365} years)\\\\n\\")\\n            \\n            if age_days < 30:\\n                print(\\"[ALERT] Domain registered less than 30 days ago!\\")\\n            elif age_days < 180:\\n                print(\\"[WARNING] Domain is relatively new (< 6 months)\\")\\n            else:\\n                print(\\"[INFO] Domain has established history\\")\\n        else:\\n            print(f\\"[WARNING] Could not retrieve creation date for {domain}\\")\\n    except Exception as e:\\n        print(f\\"[ERROR] WHOIS lookup failed for {domain}: {str(e)}\\")\\n\\n# Example usage\\ntest_domains = [\\n    'paypa1.com',  # Typosquatting example\\n    'google.com',  # Legitimate example\\n]\\n\\nprint(\\"=== DOMAIN AGE ANALYSIS ===\\\\n\\")\\nfor domain in test_domains:\\n    check_domain_age(domain)\\n    print(\\"\\\\n\\" + \\"=\\"*50 + \\"\\\\n\\")"
      ]
    },
    {
      "cell_type": "markdown",
      "metadata": {},
      "source": [
        "## Lab 3: OSINT for Social Engineering Defense\\n\\nAudit organizational exposure using OSINT techniques and Have I Been Pwned API."
      ]
    },
    {
      "cell_type": "code",
      "execution_count": null,
      "metadata": {},
      "outputs": [],
      "source": [
        "import requests\\nimport hashlib\\n\\ndef check_breach_status_hibp(email, api_key=None):\\n    \\"\\"\\"\\n    Check if email appears in known data breaches using Have I Been Pwned API\\n    API key required: https://haveibeenpwned.com/API/Key\\n    \\"\\"\\"\\n    if not api_key:\\n        print(f\\"[INFO] HIBP API key not provided. Using simulation mode for: {email}\\\\n\\")\\n        # Simulated result\\n        print(f\\"[ALERT] Email '{email}' found in 3 breaches!\\")\\n        print(\\"  - LinkedIn (2012-06-05): Email addresses, Passwords\\")\\n        print(\\"  - Adobe (2013-10-04): Email addresses, Password hints, Passwords, Usernames\\")\\n        print(\\"  - Collection #1 (2019-01-16): Email addresses, Passwords\\\\n\\")\\n        return True\\n    \\n    # Real HIBP API implementation\\n    url = f'https://haveibeenpwned.com/api/v3/breachedaccount/{email}'\\n    headers = {\\n        'User-Agent': 'HackLearn-Security-Audit',\\n        'hibp-api-key': api_key\\n    }\\n    \\n    response = requests.get(url, headers=headers)\\n    \\n    if response.status_code == 200:\\n        breaches = response.json()\\n        print(f\\"\\\\n[ALERT] Email '{email}' found in {len(breaches)} breaches!\\")\\n        for breach in breaches:\\n            print(f\\"  - {breach['Name']} ({breach['BreachDate']}): {', '.join(breach['DataClasses'])}\\")\\n        return True\\n    elif response.status_code == 404:\\n        print(f\\"\\\\n[INFO] Email '{email}' not found in known breaches.\\")\\n        return False\\n    else:\\n        print(f\\"[ERROR] API request failed: {response.status_code}\\")\\n        return None\\n\\n# Example usage (simulation mode)\\ntest_emails = [\\n    'employee1@company.com',\\n    'admin@company.com',\\n    'finance@company.com'\\n]\\n\\nprint(\\"=== HAVE I BEEN PWNED CHECK ===\\\\n\\")\\nfor email in test_emails:\\n    check_breach_status_hibp(email)\\n    print(\\"\\\\n\\" + \\"=\\"*50 + \\"\\\\n\\")"
      ]
    },
    {
      "cell_type": "markdown",
      "metadata": {},
      "source": [
        "### Exercise 3.1: Password Breach Check (k-Anonymity)"
      ]
    },
    {
      "cell_type": "code",
      "execution_count": null,
      "metadata": {},
      "outputs": [],
      "source": [
        "import requests\\nimport hashlib\\n\\ndef check_password_pwned(password):\\n    \\"\\"\\"\\n    Check if password has appeared in data breaches using HIBP Pwned Passwords API\\n    Uses k-anonymity: only first 5 characters of hash are sent to server\\n    \\"\\"\\"\\n    # Hash password with SHA-1\\n    sha1_hash = hashlib.sha1(password.encode()).hexdigest().upper()\\n    prefix = sha1_hash[:5]\\n    suffix = sha1_hash[5:]\\n    \\n    # Query HIBP API with first 5 characters\\n    url = f'https://api.pwnedpasswords.com/range/{prefix}'\\n    response = requests.get(url)\\n    \\n    if response.status_code == 200:\\n        # Search for our hash suffix in results\\n        hashes = response.text.split('\\\\r\\\\n')\\n        for hash_line in hashes:\\n            hash_suffix, count = hash_line.split(':')\\n            if hash_suffix == suffix:\\n                print(f\\"[ALERT] Password '{password}' found in {count} breaches!\\")\\n                print(\\"[WARNING] This password has been compromised - DO NOT USE!\\")\\n                return True\\n        \\n        print(f\\"[INFO] Password '{password}' not found in known breaches.\\")\\n        print(\\"[INFO] However, always use strong, unique passwords for each account.\\")\\n        return False\\n    else:\\n        print(f\\"[ERROR] API request failed: {response.status_code}\\")\\n        return None\\n\\n# Example usage\\ntest_passwords = [\\n    'password123',  # Common password\\n    'qwerty',       # Common password\\n    'X!k9$mP2#qL4'  # Strong random password\\n]\\n\\nprint(\\"=== PASSWORD BREACH CHECK ===\\\\n\\")\\nfor pwd in test_passwords:\\n    check_password_pwned(pwd)\\n    print(\\"\\\\n\\" + \\"=\\"*50 + \\"\\\\n\\")"
      ]
    },
    {
      "cell_type": "markdown",
      "metadata": {},
      "source": [
        "## Lab 4: Email Authentication Validation\\n\\nImplement SPF, DKIM, and DMARC record validation."
      ]
    },
    {
      "cell_type": "code",
      "execution_count": null,
      "metadata": {},
      "outputs": [],
      "source": [
        "import dns.resolver\\nimport re\\n\\ndef check_spf_record(domain):\\n    \\"\\"\\"Check if domain has valid SPF record\\"\\"\\"\\n    try:\\n        answers = dns.resolver.resolve(domain, 'TXT')\\n        for rdata in answers:\\n            for txt_string in rdata.strings:\\n                txt = txt_string.decode()\\n                if txt.startswith('v=spf1'):\\n                    print(f\\"Domain: {domain}\\")\\n                    print(f\\"SPF Record: {txt}\\\\n\\")\\n                    \\n                    # Analyze SPF policy\\n                    if txt.endswith('-all'):\\n                        print(\\"[INFO] SPF Policy: HARD FAIL (-all) - Strict protection\\")\\n                    elif txt.endswith('~all'):\\n                        print(\\"[WARNING] SPF Policy: SOFT FAIL (~all) - Lenient protection\\")\\n                    elif txt.endswith('?all'):\\n                        print(\\"[WARNING] SPF Policy: NEUTRAL (?all) - No protection\\")\\n                    else:\\n                        print(\\"[WARNING] SPF Policy: Not properly terminated\\")\\n                    \\n                    return True\\n        \\n        print(f\\"[WARNING] No SPF record found for {domain}\\")\\n        return False\\n    except Exception as e:\\n        print(f\\"[ERROR] SPF lookup failed: {str(e)}\\")\\n        return None\\n\\ndef check_dmarc_record(domain):\\n    \\"\\"\\"Check if domain has valid DMARC record\\"\\"\\"\\n    try:\\n        dmarc_domain = f'_dmarc.{domain}'\\n        answers = dns.resolver.resolve(dmarc_domain, 'TXT')\\n        \\n        for rdata in answers:\\n            for txt_string in rdata.strings:\\n                txt = txt_string.decode()\\n                if txt.startswith('v=DMARC1'):\\n                    print(f\\"Domain: {domain}\\")\\n                    print(f\\"DMARC Record: {txt}\\\\n\\")\\n                    \\n                    # Parse DMARC policy\\n                    policy_match = re.search(r'p=([^;]+)', txt)\\n                    if policy_match:\\n                        policy = policy_match.group(1)\\n                        if policy == 'reject':\\n                            print(\\"[INFO] DMARC Policy: REJECT - Strongest protection\\")\\n                        elif policy == 'quarantine':\\n                            print(\\"[INFO] DMARC Policy: QUARANTINE - Moderate protection\\")\\n                        elif policy == 'none':\\n                            print(\\"[WARNING] DMARC Policy: NONE - Monitoring only, no enforcement\\")\\n                    \\n                    return True\\n        \\n        print(f\\"[WARNING] No DMARC record found for {domain}\\")\\n        return False\\n    except Exception as e:\\n        print(f\\"[ERROR] DMARC lookup failed: {str(e)}\\")\\n        return None\\n\\n# Example usage\\ntest_domains = [\\n    'google.com',\\n    'microsoft.com',\\n    'your-company.com'  # Replace with your domain\\n]\\n\\nprint(\\"=== EMAIL AUTHENTICATION CHECK ===\\\\n\\")\\nfor domain in test_domains:\\n    print(f\\"\\\\n=== Checking {domain} ===\\\\n\\")\\n    check_spf_record(domain)\\n    print()\\n    check_dmarc_record(domain)\\n    print(\\"\\\\n\\" + \\"=\\"*50)"
      ]
    },
    {
      "cell_type": "markdown",
      "metadata": {},
      "source": [
        "### Exercise 4.1: Generate DMARC Record"
      ]
    },
    {
      "cell_type": "code",
      "execution_count": null,
      "metadata": {},
      "outputs": [],
      "source": [
        "def generate_dmarc_record(domain, policy='quarantine', rua_email=None, ruf_email=None, pct=100):\\n    \\"\\"\\"\\n    Generate a DMARC DNS record\\n    \\n    Parameters:\\n    - policy: 'none', 'quarantine', or 'reject'\\n    - rua_email: Email for aggregate reports\\n    - ruf_email: Email for forensic reports\\n    - pct: Percentage of emails to apply policy (0-100)\\n    \\"\\"\\"\\n    dmarc_parts = [\\n        'v=DMARC1',\\n        f'p={policy}',\\n        f'pct={pct}'\\n    ]\\n    \\n    if rua_email:\\n        dmarc_parts.append(f'rua=mailto:{rua_email}')\\n    \\n    if ruf_email:\\n        dmarc_parts.append(f'ruf=mailto:{ruf_email}')\\n    \\n    dmarc_record = '; '.join(dmarc_parts)\\n    \\n    print(f\\"=== DMARC Record Generator ===\\\\n\\")\\n    print(f\\"Domain: {domain}\\")\\n    print(f\\"DNS Record Name: _dmarc.{domain}\\")\\n    print(f\\"Type: TXT\\")\\n    print(f\\"Value: {dmarc_record}\\\\n\\")\\n    print(\\"=== Explanation ===\\")\\n    print(f\\"v=DMARC1: DMARC version 1\\")\\n    print(f\\"p={policy}: Policy for emails that fail authentication\\")\\n    print(f\\"pct={pct}: Apply policy to {pct}% of failing emails\\")\\n    if rua_email:\\n        print(f\\"rua=mailto:{rua_email}: Send aggregate reports to this address\\")\\n    if ruf_email:\\n        print(f\\"ruf=mailto:{ruf_email}: Send forensic reports to this address\\")\\n    \\n    return dmarc_record\\n\\n# Example usage\\ngenerate_dmarc_record(\\n    domain='example.com',\\n    policy='reject',\\n    rua_email='dmarc-reports@example.com',\\n    pct=100\\n)"
      ]
    },
    {
      "cell_type": "markdown",
      "metadata": {},
      "source": [
        "## Lab 5: Email Filtering & Pattern Detection\\n\\nBuild a defensive email filter to detect phishing patterns."
      ]
    },
    {
      "cell_type": "code",
      "execution_count": null,
      "metadata": {},
      "outputs": [],
      "source": [
        "import re\\n\\nclass PhishingDetector:\\n    def __init__(self):\\n        self.urgency_keywords = [\\n            'urgent', 'immediate', 'action required', 'verify', 'suspend',\\n            'limited time', 'expires', 'account locked', 'confirm identity'\\n        ]\\n        \\n        self.suspicious_patterns = [\\n            r'click here',\\n            r'verify (your )?account',\\n            r'update (your )?payment',\\n            r'confirm (your )?identity',\\n            r'unusual activity',\\n            r'security alert',\\n            r'tax refund'\\n        ]\\n        \\n        self.suspicious_tlds = ['.tk', '.ml', '.ga', '.cf', '.gq', '.xyz']\\n    \\n    def analyze_email(self, subject, body, sender, links):\\n        \\"\\"\\"\\n        Analyze email for phishing indicators\\n        Returns: (score, flags)\\n        \\"\\"\\"\\n        score = 0\\n        flags = []\\n        \\n        # Check 1: Urgency in subject\\n        for keyword in self.urgency_keywords:\\n            if keyword.lower() in subject.lower():\\n                score += 2\\n                flags.append(f\\"Urgency keyword in subject: '{keyword}'\\")\\n                break\\n        \\n        # Check 2: Suspicious patterns in body\\n        for pattern in self.suspicious_patterns:\\n            if re.search(pattern, body, re.IGNORECASE):\\n                score += 1\\n                flags.append(f\\"Suspicious pattern: {pattern}\\")\\n        \\n        # Check 3: Suspicious TLDs in links\\n        for link in links:\\n            for tld in self.suspicious_tlds:\\n                if tld in link.lower():\\n                    score += 3\\n                    flags.append(f\\"Suspicious TLD in link: {tld}\\")\\n                    break\\n        \\n        # Check 4: Mismatched display name and email\\n        if '@' in sender:\\n            display_name, email_addr = sender.split('<') if '<' in sender else ('', sender)\\n            if 'paypal' in display_name.lower() and 'paypal' not in email_addr.lower():\\n                score += 5\\n                flags.append(\\"Display name doesn't match email domain\\")\\n        \\n        # Check 5: Excessive links\\n        if len(links) > 5:\\n            score += 2\\n            flags.append(f\\"Excessive links: {len(links)} found\\")\\n        \\n        # Determine risk level\\n        if score >= 7:\\n            risk = \\"HIGH\\"\\n        elif score >= 4:\\n            risk = \\"MEDIUM\\"\\n        else:\\n            risk = \\"LOW\\"\\n        \\n        return score, risk, flags\\n\\n# Example usage\\ndetector = PhishingDetector()\\n\\ntest_email_1 = {\\n    'subject': 'URGENT: Verify Your Account Within 24 Hours',\\n    'body': 'Click here to verify your account immediately or it will be suspended.',\\n    'sender': 'PayPal Support <attacker@paypa1.tk>',\\n    'links': ['http://paypa1-security.tk/verify', 'http://suspicious-site.ml']\\n}\\n\\ntest_email_2 = {\\n    'subject': 'Meeting scheduled for next week',\\n    'body': 'Hi, I\\\\'ve scheduled a meeting for next Tuesday at 2 PM.',\\n    'sender': 'John Smith <john@company.com>',\\n    'links': []\\n}\\n\\nprint(\\"=== EMAIL PHISHING DETECTION ===\\\\n\\")\\n\\nfor i, email in enumerate([test_email_1, test_email_2], 1):\\n    score, risk, flags = detector.analyze_email(\\n        email['subject'],\\n        email['body'],\\n        email['sender'],\\n        email['links']\\n    )\\n    \\n    print(f\\"Email {i}:\\")\\n    print(f\\"Subject: {email['subject']}\\")\\n    print(f\\"Risk Score: {score}\\")\\n    print(f\\"Risk Level: {risk}\\\\n\\")\\n    \\n    if flags:\\n        print(\\"Flags Detected:\\")\\n        for flag in flags:\\n            print(f\\"  - {flag}\\")\\n    else:\\n        print(\\"No suspicious indicators detected.\\")\\n    \\n    print(\\"\\\\n\\" + \\"=\\"*50 + \\"\\\\n\\")"
      ]
    },
    {
      "cell_type": "markdown",
      "metadata": {},
      "source": [
        "## Summary & Key Takeaways\\n\\n### Skills Mastered\\n\\n1. **Email Header Analysis**: Identify phishing through SPF/DKIM/DMARC validation, domain mismatches, and suspicious patterns\\n2. **URL Reputation Checking**: Use VirusTotal API and domain age analysis to detect malicious links\\n3. **OSINT Reconnaissance**: Audit organizational exposure using Have I Been Pwned and breach databases\\n4. **Email Authentication**: Implement and validate SPF, DKIM, and DMARC records to prevent domain spoofing\\n5. **Pattern Detection**: Build automated phishing detection systems using keyword analysis and risk scoring\\n\\n### Defensive Best Practices\\n\\n- **Technical Controls**: Deploy DMARC with p=reject policy, email security gateways, URL filtering\\n- **User Training**: Run quarterly phishing simulations, reduce phish-prone percentage from 33% to 5-10%\\n- **Process Controls**: Implement out-of-band verification for wire transfers, dual authorization for high-value transactions\\n- **Monitoring**: Deploy user reporting mechanisms (Phish Alert Button), analyze reported emails for threat intelligence\\n- **Incident Response**: Establish playbooks for phishing incidents, automate takedown requests\\n\\n### Statistics to Remember\\n\\n- 36% of breaches involve phishing (Verizon DBIR 2023)\\n- $2.7 billion lost to BEC in 2022 (FBI IC3)\\n- 99.9% of automated attacks blocked by MFA (Microsoft 2022)\\n- 84% of organizations experienced phishing attacks (Proofpoint 2023)\\n- Only 30% of organizations have DMARC enforcement (p=reject)\\n\\n### Next Steps\\n\\n1. Deploy DMARC on your organization's domains (start with p=none for monitoring, then move to p=reject)\\n2. Implement security awareness training program with monthly phishing simulations\\n3. Deploy email security gateway (Proofpoint, Mimecast, or IronScales)\\n4. Create wire transfer verification procedures requiring out-of-band confirmation\\n5. Monitor for domain impersonation and typosquatting domains\\n\\n---\\n\\n**Remember**: Social engineering exploits human psychology, not technical vulnerabilities. Defense requires both technical controls AND user awareness. Always test on authorized systems only."
      ]
    }
  ],
  "metadata": {
    "kernelspec": {
      "display_name": "Python 3",
      "language": "python",
      "name": "python3"
    },
    "language_info": {
      "codemirror_mode": {
        "name": "ipython",
        "version": 3
      },
      "file_extension": ".py",
      "mimetype": "text/x-python",
      "name": "python",
      "nbconvert_exporter": "python",
      "pygments_lexer": "ipython3",
      "version": "3.8.0"
    }
  },
  "nbformat": 4,
  "nbformat_minor": 4
}
